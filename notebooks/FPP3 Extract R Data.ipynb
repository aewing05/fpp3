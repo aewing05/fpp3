{
 "cells": [
  {
   "cell_type": "code",
   "execution_count": 2,
   "id": "754eb60b-0e8b-4edb-8adb-227d0d25e1e3",
   "metadata": {},
   "outputs": [],
   "source": [
    "# May need to install\n",
    "# install.packages(\"fpp3\")\n",
    "# install.packages(\"dplyr\")\n",
    "# install.packages(\"purrr\")\n",
    "# install.packages(\"fma\")\n",
    "# install.packages(\"readr\")"
   ]
  },
  {
   "cell_type": "code",
   "execution_count": 1,
   "id": "4d049a2a-db3d-40fc-a23e-890369db9802",
   "metadata": {},
   "outputs": [
    {
     "name": "stderr",
     "output_type": "stream",
     "text": [
      "── \u001b[1mAttaching packages\u001b[22m ─────────────────────────────────────────────────────────────────── fpp3 0.5 ──\n",
      "\n",
      "\u001b[32m✔\u001b[39m \u001b[34mtibble     \u001b[39m 3.2.1     \u001b[32m✔\u001b[39m \u001b[34mtsibble    \u001b[39m 1.1.4\n",
      "\u001b[32m✔\u001b[39m \u001b[34mdplyr      \u001b[39m 1.1.4     \u001b[32m✔\u001b[39m \u001b[34mtsibbledata\u001b[39m 0.4.1\n",
      "\u001b[32m✔\u001b[39m \u001b[34mtidyr      \u001b[39m 1.3.1     \u001b[32m✔\u001b[39m \u001b[34mfeasts     \u001b[39m 0.3.2\n",
      "\u001b[32m✔\u001b[39m \u001b[34mlubridate  \u001b[39m 1.9.3     \u001b[32m✔\u001b[39m \u001b[34mfable      \u001b[39m 0.3.4\n",
      "\u001b[32m✔\u001b[39m \u001b[34mggplot2    \u001b[39m 3.5.0     \u001b[32m✔\u001b[39m \u001b[34mfabletools \u001b[39m 0.4.1\n",
      "\n",
      "── \u001b[1mConflicts\u001b[22m ────────────────────────────────────────────────────────────────────── fpp3_conflicts ──\n",
      "\u001b[31m✖\u001b[39m \u001b[34mlubridate\u001b[39m::\u001b[32mdate()\u001b[39m    masks \u001b[34mbase\u001b[39m::date()\n",
      "\u001b[31m✖\u001b[39m \u001b[34mdplyr\u001b[39m::\u001b[32mfilter()\u001b[39m      masks \u001b[34mstats\u001b[39m::filter()\n",
      "\u001b[31m✖\u001b[39m \u001b[34mtsibble\u001b[39m::\u001b[32mintersect()\u001b[39m masks \u001b[34mbase\u001b[39m::intersect()\n",
      "\u001b[31m✖\u001b[39m \u001b[34mtsibble\u001b[39m::\u001b[32minterval()\u001b[39m  masks \u001b[34mlubridate\u001b[39m::interval()\n",
      "\u001b[31m✖\u001b[39m \u001b[34mdplyr\u001b[39m::\u001b[32mlag()\u001b[39m         masks \u001b[34mstats\u001b[39m::lag()\n",
      "\u001b[31m✖\u001b[39m \u001b[34mtsibble\u001b[39m::\u001b[32msetdiff()\u001b[39m   masks \u001b[34mbase\u001b[39m::setdiff()\n",
      "\u001b[31m✖\u001b[39m \u001b[34mtsibble\u001b[39m::\u001b[32munion()\u001b[39m     masks \u001b[34mbase\u001b[39m::union()\n",
      "\n",
      "Loading required package: forecast\n",
      "\n",
      "Registered S3 method overwritten by 'quantmod':\n",
      "  method            from\n",
      "  as.zoo.data.frame zoo \n",
      "\n"
     ]
    }
   ],
   "source": [
    "library(fpp3)\n",
    "library(dplyr)\n",
    "library(purrr)\n",
    "library(fma)\n",
    "library(readr)"
   ]
  },
  {
   "cell_type": "code",
   "execution_count": 2,
   "id": "b707ae3e-1320-44fe-adc6-9c4530f837e0",
   "metadata": {},
   "outputs": [],
   "source": [
    "# Datasets\n",
    "# global_economy\n",
    "# tourism"
   ]
  },
  {
   "cell_type": "markdown",
   "id": "9942f96b-ab27-48be-9745-054d7ac72e8a",
   "metadata": {},
   "source": [
    "Move to data directory, save as csv, return to notebooks directory"
   ]
  },
  {
   "cell_type": "code",
   "execution_count": 8,
   "id": "0b52b567-0915-4d31-8770-ab9592fe1fb4",
   "metadata": {},
   "outputs": [],
   "source": [
    "ts2csv <- function(x) {\n",
    "  setwd('../data/')\n",
    "  fname <- paste0(deparse(substitute(x)), \".csv\")\n",
    "  readr::write_csv(tsibble::as_tsibble(x), fname)\n",
    "  setwd('../notebooks/')\n",
    "}"
   ]
  },
  {
   "cell_type": "code",
   "execution_count": 15,
   "id": "88b3f12b-c938-42b7-b2c9-188650e3980f",
   "metadata": {},
   "outputs": [],
   "source": [
    "ts2csv(aus_production)"
   ]
  },
  {
   "cell_type": "code",
   "execution_count": null,
   "id": "b6807477-2e77-420a-9a8b-ffb16a595428",
   "metadata": {},
   "outputs": [],
   "source": []
  },
  {
   "cell_type": "code",
   "execution_count": null,
   "id": "0a440852-49a3-4bc0-a0b0-fe61ac8c15d8",
   "metadata": {},
   "outputs": [],
   "source": []
  },
  {
   "cell_type": "code",
   "execution_count": null,
   "id": "b1a2dd9f-6556-4eda-bec2-edf723113342",
   "metadata": {},
   "outputs": [],
   "source": []
  },
  {
   "cell_type": "code",
   "execution_count": null,
   "id": "3e6cbd90-3bf1-432a-acae-eac85592474b",
   "metadata": {},
   "outputs": [],
   "source": []
  }
 ],
 "metadata": {
  "kernelspec": {
   "display_name": "R",
   "language": "R",
   "name": "ir"
  },
  "language_info": {
   "codemirror_mode": "r",
   "file_extension": ".r",
   "mimetype": "text/x-r-source",
   "name": "R",
   "pygments_lexer": "r",
   "version": "4.3.3"
  }
 },
 "nbformat": 4,
 "nbformat_minor": 5
}
