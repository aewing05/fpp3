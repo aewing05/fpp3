{
 "cells": [
  {
   "cell_type": "code",
   "execution_count": 19,
   "id": "754eb60b-0e8b-4edb-8adb-227d0d25e1e3",
   "metadata": {},
   "outputs": [
    {
     "name": "stderr",
     "output_type": "stream",
     "text": [
      "also installing the dependencies ‘bit’, ‘bit64’, ‘progress’, ‘hms’, ‘vroom’, ‘tzdb’\n",
      "\n",
      "\n"
     ]
    },
    {
     "name": "stdout",
     "output_type": "stream",
     "text": [
      "\n",
      "The downloaded binary packages are in\n",
      "\t/var/folders/r1/0mx71jjx0k70f7k3ll5sv2nh0000gn/T//RtmpDppoUZ/downloaded_packages\n"
     ]
    }
   ],
   "source": [
    "# May need to install\n",
    "# install.packages(\"fpp3\")\n",
    "# install.packages(\"dplyr\")\n",
    "# install.packages(\"purrr\")\n",
    "# install.packages(\"fma\")\n",
    "# install.packages(\"readr\")"
   ]
  },
  {
   "cell_type": "code",
   "execution_count": 20,
   "id": "4d049a2a-db3d-40fc-a23e-890369db9802",
   "metadata": {},
   "outputs": [],
   "source": [
    "library(fpp3)\n",
    "library(dplyr)\n",
    "library(purrr)\n",
    "library(fma)\n",
    "library(readr)"
   ]
  },
  {
   "cell_type": "code",
   "execution_count": 13,
   "id": "b707ae3e-1320-44fe-adc6-9c4530f837e0",
   "metadata": {},
   "outputs": [],
   "source": [
    "# Datasets\n",
    "# global_economy\n",
    "# tourism"
   ]
  },
  {
   "cell_type": "code",
   "execution_count": 22,
   "id": "0b52b567-0915-4d31-8770-ab9592fe1fb4",
   "metadata": {},
   "outputs": [],
   "source": [
    "ts2csv <- function(x) {\n",
    "  fname <- paste0(deparse(substitute(x)), \".csv\")\n",
    "  readr::write_csv(tsibble::as_tsibble(x), fname)\n",
    "}"
   ]
  },
  {
   "cell_type": "code",
   "execution_count": 23,
   "id": "88b3f12b-c938-42b7-b2c9-188650e3980f",
   "metadata": {},
   "outputs": [],
   "source": [
    "ts2csv(tourism)"
   ]
  },
  {
   "cell_type": "code",
   "execution_count": null,
   "id": "9baa2a73-5268-4025-a749-9120536db3c2",
   "metadata": {},
   "outputs": [],
   "source": []
  },
  {
   "cell_type": "code",
   "execution_count": null,
   "id": "603d1e51-fb64-4cb3-bad7-d76cf92084f3",
   "metadata": {},
   "outputs": [],
   "source": []
  },
  {
   "cell_type": "code",
   "execution_count": null,
   "id": "08694b55-f058-4ceb-aab1-59ef5ed00b7b",
   "metadata": {},
   "outputs": [],
   "source": []
  },
  {
   "cell_type": "code",
   "execution_count": null,
   "id": "b6807477-2e77-420a-9a8b-ffb16a595428",
   "metadata": {},
   "outputs": [],
   "source": []
  },
  {
   "cell_type": "code",
   "execution_count": null,
   "id": "0a440852-49a3-4bc0-a0b0-fe61ac8c15d8",
   "metadata": {},
   "outputs": [],
   "source": []
  },
  {
   "cell_type": "code",
   "execution_count": null,
   "id": "b1a2dd9f-6556-4eda-bec2-edf723113342",
   "metadata": {},
   "outputs": [],
   "source": []
  },
  {
   "cell_type": "code",
   "execution_count": null,
   "id": "3e6cbd90-3bf1-432a-acae-eac85592474b",
   "metadata": {},
   "outputs": [],
   "source": []
  }
 ],
 "metadata": {
  "kernelspec": {
   "display_name": "R",
   "language": "R",
   "name": "ir"
  },
  "language_info": {
   "codemirror_mode": "r",
   "file_extension": ".r",
   "mimetype": "text/x-r-source",
   "name": "R",
   "pygments_lexer": "r",
   "version": "4.3.3"
  }
 },
 "nbformat": 4,
 "nbformat_minor": 5
}
