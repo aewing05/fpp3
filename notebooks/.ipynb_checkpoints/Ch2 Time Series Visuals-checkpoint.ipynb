{
 "cells": [
  {
   "cell_type": "code",
   "execution_count": 1,
   "id": "da7d607b-0495-4a61-9bf6-ca378480a6e7",
   "metadata": {},
   "outputs": [],
   "source": [
    "import sys, os\n",
    "if os.path.abspath(\"..\") not in sys.path:\n",
    "    sys.path.insert(0, os.path.abspath(\"..\"))"
   ]
  },
  {
   "cell_type": "code",
   "execution_count": 2,
   "id": "a2fa1a60-e098-489d-bd59-aa5f3a798862",
   "metadata": {},
   "outputs": [],
   "source": [
    "from util.utilities import *"
   ]
  },
  {
   "cell_type": "code",
   "execution_count": 3,
   "id": "55e548f5-6218-45af-bb98-574de0617bbc",
   "metadata": {},
   "outputs": [],
   "source": [
    "import pandas as pd"
   ]
  },
  {
   "cell_type": "code",
   "execution_count": null,
   "id": "07b83f26-eb9d-43c9-836e-4863d14c937d",
   "metadata": {},
   "outputs": [],
   "source": []
  },
  {
   "cell_type": "code",
   "execution_count": 5,
   "id": "7da2b493-06e5-4a53-bd81-d00b3f8171ca",
   "metadata": {},
   "outputs": [
    {
     "data": {
      "text/html": [
       "<div>\n",
       "<style scoped>\n",
       "    .dataframe tbody tr th:only-of-type {\n",
       "        vertical-align: middle;\n",
       "    }\n",
       "\n",
       "    .dataframe tbody tr th {\n",
       "        vertical-align: top;\n",
       "    }\n",
       "\n",
       "    .dataframe thead th {\n",
       "        text-align: right;\n",
       "    }\n",
       "</style>\n",
       "<table border=\"1\" class=\"dataframe\">\n",
       "  <thead>\n",
       "    <tr style=\"text-align: right;\">\n",
       "      <th></th>\n",
       "      <th>Year</th>\n",
       "      <th>Length</th>\n",
       "      <th>Sex</th>\n",
       "      <th>Time</th>\n",
       "    </tr>\n",
       "  </thead>\n",
       "  <tbody>\n",
       "    <tr>\n",
       "      <th>0</th>\n",
       "      <td>1896-01-01</td>\n",
       "      <td>100</td>\n",
       "      <td>men</td>\n",
       "      <td>12.00</td>\n",
       "    </tr>\n",
       "    <tr>\n",
       "      <th>1</th>\n",
       "      <td>1900-01-01</td>\n",
       "      <td>100</td>\n",
       "      <td>men</td>\n",
       "      <td>11.00</td>\n",
       "    </tr>\n",
       "    <tr>\n",
       "      <th>2</th>\n",
       "      <td>1904-01-01</td>\n",
       "      <td>100</td>\n",
       "      <td>men</td>\n",
       "      <td>11.00</td>\n",
       "    </tr>\n",
       "    <tr>\n",
       "      <th>3</th>\n",
       "      <td>1908-01-01</td>\n",
       "      <td>100</td>\n",
       "      <td>men</td>\n",
       "      <td>10.80</td>\n",
       "    </tr>\n",
       "    <tr>\n",
       "      <th>4</th>\n",
       "      <td>1912-01-01</td>\n",
       "      <td>100</td>\n",
       "      <td>men</td>\n",
       "      <td>10.80</td>\n",
       "    </tr>\n",
       "    <tr>\n",
       "      <th>...</th>\n",
       "      <td>...</td>\n",
       "      <td>...</td>\n",
       "      <td>...</td>\n",
       "      <td>...</td>\n",
       "    </tr>\n",
       "    <tr>\n",
       "      <th>307</th>\n",
       "      <td>2000-01-01</td>\n",
       "      <td>10000</td>\n",
       "      <td>women</td>\n",
       "      <td>1817.49</td>\n",
       "    </tr>\n",
       "    <tr>\n",
       "      <th>308</th>\n",
       "      <td>2004-01-01</td>\n",
       "      <td>10000</td>\n",
       "      <td>women</td>\n",
       "      <td>1824.36</td>\n",
       "    </tr>\n",
       "    <tr>\n",
       "      <th>309</th>\n",
       "      <td>2008-01-01</td>\n",
       "      <td>10000</td>\n",
       "      <td>women</td>\n",
       "      <td>1794.66</td>\n",
       "    </tr>\n",
       "    <tr>\n",
       "      <th>310</th>\n",
       "      <td>2012-01-01</td>\n",
       "      <td>10000</td>\n",
       "      <td>women</td>\n",
       "      <td>1820.75</td>\n",
       "    </tr>\n",
       "    <tr>\n",
       "      <th>311</th>\n",
       "      <td>2016-01-01</td>\n",
       "      <td>10000</td>\n",
       "      <td>women</td>\n",
       "      <td>1757.45</td>\n",
       "    </tr>\n",
       "  </tbody>\n",
       "</table>\n",
       "<p>312 rows × 4 columns</p>\n",
       "</div>"
      ],
      "text/plain": [
       "          Year  Length    Sex     Time\n",
       "0   1896-01-01     100    men    12.00\n",
       "1   1900-01-01     100    men    11.00\n",
       "2   1904-01-01     100    men    11.00\n",
       "3   1908-01-01     100    men    10.80\n",
       "4   1912-01-01     100    men    10.80\n",
       "..         ...     ...    ...      ...\n",
       "307 2000-01-01   10000  women  1817.49\n",
       "308 2004-01-01   10000  women  1824.36\n",
       "309 2008-01-01   10000  women  1794.66\n",
       "310 2012-01-01   10000  women  1820.75\n",
       "311 2016-01-01   10000  women  1757.45\n",
       "\n",
       "[312 rows x 4 columns]"
      ]
     },
     "execution_count": 5,
     "metadata": {},
     "output_type": "execute_result"
    }
   ],
   "source": [
    "olympic_running = pd.read_csv('../data/olympic_running.csv', parse_dates=['Year'])\n",
    "olympic_running"
   ]
  },
  {
   "cell_type": "code",
   "execution_count": null,
   "id": "9b454279-0e51-432f-8f26-46379e8bb352",
   "metadata": {},
   "outputs": [],
   "source": []
  }
 ],
 "metadata": {
  "kernelspec": {
   "display_name": "fpp3",
   "language": "python",
   "name": "fpp3"
  },
  "language_info": {
   "codemirror_mode": {
    "name": "ipython",
    "version": 3
   },
   "file_extension": ".py",
   "mimetype": "text/x-python",
   "name": "python",
   "nbconvert_exporter": "python",
   "pygments_lexer": "ipython3",
   "version": "3.12.2"
  }
 },
 "nbformat": 4,
 "nbformat_minor": 5
}
